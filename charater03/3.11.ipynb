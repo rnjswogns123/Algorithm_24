{
 "cells": [
  {
   "cell_type": "markdown",
   "metadata": {},
   "source": [
    "# No.11"
   ]
  },
  {
   "cell_type": "markdown",
   "metadata": {},
   "source": [
    "입력으로 주어진 문자열에서 A로 시작하고 B로 끝나는 부분 문자열(substring)의 개수를 구하는 문제가 주어졌다. 예를 들어, 문자열 ADBAAEDBA에는 4개읭 부분 문자열이 있다. ADBAAEDBA, ADBAAEDBA, ADBAAEDBA. ADBAAEDBA이다."
   ]
  },
  {
   "cell_type": "markdown",
   "metadata": {},
   "source": [
    "(1) 이 문제에 대한 억지 기법 알고리즘을 설계하고, 시간 복잡도를 계산하라."
   ]
  },
  {
   "cell_type": "code",
   "execution_count": 1,
   "metadata": {},
   "outputs": [
    {
     "name": "stdout",
     "output_type": "stream",
     "text": [
      "A로 시작하고 B로 끝나는 부분 문자열 개수: 4\n"
     ]
    }
   ],
   "source": [
    "def count_AB_substrings(s):\n",
    "    count = 0\n",
    "    n = len(s)\n",
    "\n",
    "    # 모든 가능한 시작 인덱스 i와 종료 인덱스 j의 조합을 확인\n",
    "    for i in range(n):\n",
    "        for j in range(i + 1, n + 1):\n",
    "            # 부분 문자열이 A로 시작하고 B로 끝나는지 확인\n",
    "            if s[i] == 'A' and s[j - 1] == 'B':\n",
    "                count += 1\n",
    "\n",
    "    return count\n",
    "\n",
    "# 테스트\n",
    "s = \"ADBAAEDBA\"\n",
    "print(\"A로 시작하고 B로 끝나는 부분 문자열 개수:\", count_AB_substrings(s))"
   ]
  },
  {
   "cell_type": "markdown",
   "metadata": {},
   "source": [
    "위 코드의 시간 복잡도는  O(n^2)이다."
   ]
  },
  {
   "cell_type": "markdown",
   "metadata": {},
   "source": [
    "(2) 이 문제에 대한 더 효율적인 알고리즘을 설계해 보라."
   ]
  },
  {
   "cell_type": "code",
   "execution_count": 1,
   "metadata": {},
   "outputs": [
    {
     "name": "stdout",
     "output_type": "stream",
     "text": [
      "A로 시작하고 B로 끝나는 부분 문자열 개수: 4\n"
     ]
    }
   ],
   "source": [
    "def count_AB_substrings(s):\n",
    "    count = 0\n",
    "    a_count = 0\n",
    "\n",
    "    for char in s:\n",
    "        if char == 'A':\n",
    "            a_count += 1\n",
    "        elif char == 'B':\n",
    "            count += a_count\n",
    "\n",
    "    return count\n",
    "\n",
    "# 테스트\n",
    "s = \"ADBAAEDBA\"\n",
    "print(\"A로 시작하고 B로 끝나는 부분 문자열 개수:\", count_AB_substrings(s))"
   ]
  }
 ],
 "metadata": {
  "kernelspec": {
   "display_name": "Python 3",
   "language": "python",
   "name": "python3"
  },
  "language_info": {
   "codemirror_mode": {
    "name": "ipython",
    "version": 3
   },
   "file_extension": ".py",
   "mimetype": "text/x-python",
   "name": "python",
   "nbconvert_exporter": "python",
   "pygments_lexer": "ipython3",
   "version": "3.12.2"
  }
 },
 "nbformat": 4,
 "nbformat_minor": 2
}
