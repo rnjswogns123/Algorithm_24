{
 "cells": [
  {
   "cell_type": "markdown",
   "metadata": {},
   "source": [
    "# 5.9"
   ]
  },
  {
   "cell_type": "markdown",
   "metadata": {},
   "source": [
    "최근접 쌍의 거리"
   ]
  },
  {
   "cell_type": "markdown",
   "metadata": {},
   "source": [
    "# 1) 문제 정의"
   ]
  },
  {
   "cell_type": "markdown",
   "metadata": {},
   "source": [
    "2차원 평면 상 n개의 점이 입력으로 주어질 때, 거리가 가장 가까운 한 쌍의 점을 찾는 문제이다."
   ]
  },
  {
   "cell_type": "markdown",
   "metadata": {},
   "source": [
    "1. 분할될 때마다 부분문제의 입력이 크기 합이 더 커지는 경우에는 분할 정복이 부적절하다.\n",
    "2. 취합 과정을 주의해야 한다.\n",
    "3. 입력을 분할만 한다고 해서 효율적인 알고리즘이 되는 건 아니다."
   ]
  },
  {
   "cell_type": "markdown",
   "metadata": {},
   "source": [
    "# 2) 알고리즘 설명"
   ]
  },
  {
   "cell_type": "markdown",
   "metadata": {},
   "source": [
    "두 점 간의 모든 가능한 조합을 확인하고 최소 거리를 찾는 알고리즘이다. 하지만 큰 규모의 점 집합은 비효율적이다."
   ]
  },
  {
   "cell_type": "markdown",
   "metadata": {},
   "source": [
    "# 3) 손으로 푼 예제"
   ]
  },
  {
   "cell_type": "markdown",
   "metadata": {},
   "source": [
    "![alt text](5.9.PNG)"
   ]
  },
  {
   "cell_type": "markdown",
   "metadata": {},
   "source": [
    "# 4) 코드개요"
   ]
  },
  {
   "cell_type": "markdown",
   "metadata": {},
   "source": [
    "1. 점들을 x좌표를 기준으로 정렬한다.\n",
    "2. 점들을 반으로 나누어 좌측 부분과 우측 부분으로 나눈다.\n",
    "3. 좌측 부분과 우측 부분에서 각각 최급접 쌍을 찾는다.\n",
    "4. 두 부분에서 찾은 최근접 쌍 중에서 거리가 더 짧은 것을 선택한다.\n",
    "5. 두 부분에서 찾은 최근접 쌍의 거리와 중간 부분에서 찾을 수 있는 최근접 쌍의 거리 중에서 가장 짧은 것을 선택한다."
   ]
  },
  {
   "cell_type": "markdown",
   "metadata": {},
   "source": [
    "# 5) 알고리즘 코드"
   ]
  },
  {
   "cell_type": "code",
   "execution_count": 1,
   "metadata": {},
   "outputs": [],
   "source": [
    "def closest_pair_dist(P, n):\n",
    "    if n <= 3:\n",
    "        return closest_pair(P)\n",
    "    \n",
    "    mid = n // 2\n",
    "    mid_x = P[mid][0]\n",
    "\n",
    "    dl = closest_pair_dist(P[:mid], mid)\n",
    "    dr = closest_pair_dist(P[mid:], n-mid)\n",
    "    d = min(dl, dr)\n",
    "\n",
    "    Pm = []\n",
    "    for i in range(n):\n",
    "        if abs(P[i][0] - mid_x) < d:\n",
    "            Pm.append(P[i])\n",
    "    ds = strip_closest(Pm, d)\n",
    "    return ds"
   ]
  },
  {
   "cell_type": "markdown",
   "metadata": {},
   "source": [
    "# 6) 테스트 코드"
   ]
  },
  {
   "cell_type": "code",
   "execution_count": 3,
   "metadata": {},
   "outputs": [
    {
     "name": "stdout",
     "output_type": "stream",
     "text": [
      "Generated Points:\n",
      "(93, 19)\n",
      "(58, 28)\n",
      "(93, 36)\n",
      "(17, 44)\n",
      "(54, 41)\n",
      "(83, 71)\n",
      "(10, 12)\n",
      "(71, 78)\n",
      "(48, 12)\n",
      "(33, 92)\n",
      "\n",
      "Closest Pair Distance: 13.892443989449804\n"
     ]
    }
   ],
   "source": [
    "import random\n",
    "\n",
    "def generate_points(n, min_val, max_val):\n",
    "    return [(random.randint(min_val, max_val), random.randint(min_val, max_val)) for _ in range(n)]\n",
    "\n",
    "def distance(point1, point2):\n",
    "    return ((point1[0] - point2[0]) ** 2 + (point1[1] - point2[1]) ** 2) ** 0.5\n",
    "\n",
    "def closest_pair_brute_force(points):\n",
    "    min_dist = float('inf')\n",
    "    for i in range(len(points)):\n",
    "        for j in range(i + 1, len(points)):\n",
    "            min_dist = min(min_dist, distance(points[i], points[j]))\n",
    "    return min_dist\n",
    "\n",
    "def strip_closest(P, d):\n",
    "    n = len(P)\n",
    "    d_min = d\n",
    "    P.sort(key=lambda point: point[1]) \n",
    "\n",
    "    for i in range(n):\n",
    "        j = i + 1\n",
    "\n",
    "        while j < n and (P[j][1] - P[i][1]) < d_min:\n",
    "            dij = distance(P[i], P[j])\n",
    "            if dij < d_min:\n",
    "                d_min = dij\n",
    "            j += 1\n",
    "    return d_min\n",
    "\n",
    "def closest_pair_dist(P, n):\n",
    "    if n <= 3:\n",
    "        return closest_pair_brute_force(P)\n",
    "    \n",
    "    mid = n // 2\n",
    "    mid_x = P[mid][0]\n",
    "\n",
    "    dl = closest_pair_dist(P[:mid], mid)\n",
    "    dr = closest_pair_dist(P[mid:], n-mid)\n",
    "    d = min(dl, dr)\n",
    "\n",
    "    Pm = []\n",
    "    for i in range(n):\n",
    "        if abs(P[i][0] - mid_x) < d:\n",
    "            Pm.append(P[i])\n",
    "    ds = strip_closest(Pm, d)\n",
    "    return min(d, ds)\n",
    "\n",
    "num_points = 10\n",
    "min_val = 0\n",
    "max_val = 100\n",
    "points = generate_points(num_points, min_val, max_val)\n",
    "\n",
    "print(\"Generated Points:\")\n",
    "for point in points:\n",
    "    print(point)\n",
    "\n",
    "closest_pair_distance = closest_pair_dist(points, len(points))\n",
    "\n",
    "print(\"\\nClosest Pair Distance:\", closest_pair_distance)"
   ]
  },
  {
   "cell_type": "markdown",
   "metadata": {},
   "source": [
    "# 7) 수행 결과"
   ]
  },
  {
   "cell_type": "markdown",
   "metadata": {},
   "source": [
    "![alt text](5.9.PNG)"
   ]
  },
  {
   "cell_type": "markdown",
   "metadata": {},
   "source": [
    "# 8) 복잡도 분석"
   ]
  },
  {
   "cell_type": "markdown",
   "metadata": {},
   "source": [
    "각 층의 수행 시간 O(nlogn) 층 수 (logn) 를 공합 값은 O(nlog2n)이 된다."
   ]
  },
  {
   "cell_type": "markdown",
   "metadata": {},
   "source": [
    "# 9) 조별 협력 내용 (상호지도)"
   ]
  }
 ],
 "metadata": {
  "kernelspec": {
   "display_name": "Python 3",
   "language": "python",
   "name": "python3"
  },
  "language_info": {
   "codemirror_mode": {
    "name": "ipython",
    "version": 3
   },
   "file_extension": ".py",
   "mimetype": "text/x-python",
   "name": "python",
   "nbconvert_exporter": "python",
   "pygments_lexer": "ipython3",
   "version": "3.12.2"
  }
 },
 "nbformat": 4,
 "nbformat_minor": 2
}
