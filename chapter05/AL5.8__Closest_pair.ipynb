{
 "cells": [
  {
   "cell_type": "markdown",
   "metadata": {},
   "source": [
    "# 5.8 \n"
   ]
  },
  {
   "cell_type": "markdown",
   "metadata": {},
   "source": [
    "# 1) 문제정의"
   ]
  },
  {
   "cell_type": "markdown",
   "metadata": {},
   "source": [
    "최근접 쌍의 거리 문제를 억지기법이 아닌 분할 정복 기법으로 만든 알고리즘으로 사용한다."
   ]
  },
  {
   "cell_type": "markdown",
   "metadata": {},
   "source": [
    "# 2) 알고리즘 설명\n"
   ]
  },
  {
   "cell_type": "markdown",
   "metadata": {},
   "source": [
    "분할 정복 기법을 기반으로 하며 각 부분에서 최근접 쌍을 찾은 다음 부분해를 통합하여 전체적인 최근접 쌍을 찾는 방법이다.\n",
    "\n",
    "1. Pm의 모든 점을 y좌표를 기준으로 오름차순으로 정렬한다.\n",
    "2. dcross는 d로 초기화한다. d보다 더 큰 값이 나오는 건 의미가 없다.\n",
    "3. y 값을 기준으로 가장 작은 점 Pi를 시작점으로 잡는다."
   ]
  },
  {
   "cell_type": "markdown",
   "metadata": {},
   "source": [
    "# 3) 손으로 푼 예제"
   ]
  },
  {
   "cell_type": "markdown",
   "metadata": {},
   "source": [
    "![alt text](KakaoTalk_20240514_001519664.jpg)"
   ]
  },
  {
   "cell_type": "markdown",
   "metadata": {},
   "source": [
    "# 4) 코드개요"
   ]
  },
  {
   "cell_type": "markdown",
   "metadata": {},
   "source": [
    "1. 점들을 x좌표를 기준으로 정렬한다.\n",
    "2. 분할 정복 알고리즘을 사용하여 띠(strip) 영역을 정의하고 띠 영역 내에서 최근접 쌍의 거리를 찾는다."
   ]
  },
  {
   "cell_type": "markdown",
   "metadata": {},
   "source": [
    "# 5) 알고리즘 코드"
   ]
  },
  {
   "cell_type": "code",
   "execution_count": 5,
   "metadata": {},
   "outputs": [],
   "source": [
    "def strip_closest(P, d):\n",
    "    n = len(P)\n",
    "    d_min = d\n",
    "    P.sort(key = lambda point: point[1])\n",
    "\n",
    "    for i in range(n):\n",
    "        j = i + 1\n",
    "\n",
    "        while j < n and (P[j][1] - P[i][1]) < d_min:\n",
    "            dij = distance(P[i], P[j])\n",
    "            if dij < d_min :\n",
    "                d_min = dij\n",
    "            j += 1\n",
    "    return d_min"
   ]
  },
  {
   "cell_type": "markdown",
   "metadata": {},
   "source": [
    "# 6) 테스트 코드"
   ]
  },
  {
   "cell_type": "code",
   "execution_count": 9,
   "metadata": {},
   "outputs": [
    {
     "name": "stdout",
     "output_type": "stream",
     "text": [
      "Closest pair distance: 1.4142135623730951\n"
     ]
    }
   ],
   "source": [
    "import math\n",
    "\n",
    "def closest_pair_strip(strip, d):\n",
    "    min_dist = d\n",
    "    strip.sort(key=lambda point: point[1])\n",
    "\n",
    "    for i in range(len(strip)):\n",
    "        j = i + 1\n",
    "        while j < len(strip) and (strip[j][1] - strip[i][1]) < min_dist:\n",
    "            min_dist = min(min_dist, distance(strip[i], strip[j]))\n",
    "            j += 1\n",
    "    \n",
    "    return min_dist\n",
    "\n",
    "def closest_pair(points):\n",
    "    points.sort()\n",
    "    return closest_pair_util(points)\n",
    "\n",
    "def closest_pair_util(points):\n",
    "    if len(points) <= 3:\n",
    "        return brute_force_closest_pair(points)\n",
    "    \n",
    "    mid = len(points) // 2\n",
    "    left_part = points[:mid]\n",
    "    right_part = points[mid:]\n",
    "\n",
    "    left_min = closest_pair_util(left_part)\n",
    "    right_min = closest_pair_util(right_part)\n",
    "\n",
    "    min_dist = min(left_min, right_min)\n",
    "\n",
    "    strip = []\n",
    "    for point in points:\n",
    "        if abs(point[0] - points[mid][0]) < min_dist:\n",
    "            strip.append(point)\n",
    "\n",
    "    return min(min_dist, closest_pair_strip(strip, min_dist))\n",
    "\n",
    "def distance(point1, point2):\n",
    "    return math.sqrt((point1[0] - point2[0])**2 + (point1[1] - point2[1])**2)\n",
    "\n",
    "def brute_force_closest_pair(points):\n",
    "    min_dist = float('inf')\n",
    "    for i in range(len(points)):\n",
    "        for j in range(i + 1, len(points)):\n",
    "            min_dist = min(min_dist, distance(points[i], points[j]))\n",
    "    return min_dist\n",
    "\n",
    "# Example usage:\n",
    "points = [(2, 3), (12, 30), (40, 50), (5, 1), (12, 10), (3, 4)]\n",
    "print(\"Closest pair distance:\", closest_pair(points))"
   ]
  },
  {
   "cell_type": "markdown",
   "metadata": {},
   "source": [
    "# 7) 수행 결과"
   ]
  },
  {
   "cell_type": "markdown",
   "metadata": {},
   "source": [
    "![alt text](5.8-2.PNG)"
   ]
  },
  {
   "cell_type": "markdown",
   "metadata": {},
   "source": [
    "# 8) 복잡도 분석"
   ]
  },
  {
   "cell_type": "markdown",
   "metadata": {},
   "source": [
    "1. 최근접 점 쌍 문제를 다양한 알고리즘으로 한다. 브루트 포스 방법을 사용하면 O(n^2)의 시간 복잡도를 가지지만 분할 정복 알고리즘을 사용하면 O(n log n)의 시간 복잡도를 가진다.\n",
    "\n",
    "2. 분할 정복을 이용한 최근접 점 쌍 찾기 알고리즘이 있다. 이 알고리즘의 시간 복잡도는 O(log n)이다.\n",
    "3. 분할 정복 알고리즘을 사용하면 효율적으로 가장 가까운 두 점을 찾을 수 있다."
   ]
  },
  {
   "cell_type": "markdown",
   "metadata": {},
   "source": [
    "# 9) 조별 협력 내용(상호지도)"
   ]
  }
 ],
 "metadata": {
  "kernelspec": {
   "display_name": "Python 3",
   "language": "python",
   "name": "python3"
  },
  "language_info": {
   "codemirror_mode": {
    "name": "ipython",
    "version": 3
   },
   "file_extension": ".py",
   "mimetype": "text/x-python",
   "name": "python",
   "nbconvert_exporter": "python",
   "pygments_lexer": "ipython3",
   "version": "3.12.2"
  }
 },
 "nbformat": 4,
 "nbformat_minor": 2
}
