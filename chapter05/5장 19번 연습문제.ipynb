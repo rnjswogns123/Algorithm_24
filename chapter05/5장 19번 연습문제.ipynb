{
 "cells": [
  {
   "cell_type": "markdown",
   "metadata": {},
   "source": [
    "# 5장 19번 연습문제"
   ]
  },
  {
   "cell_type": "markdown",
   "metadata": {},
   "source": [
    "다음의 이진트리를 후위 순회한 결과를 적어라."
   ]
  },
  {
   "cell_type": "markdown",
   "metadata": {},
   "source": [
    "![alt text](KakaoTalk_20240514_171943238.jpg)"
   ]
  },
  {
   "cell_type": "markdown",
   "metadata": {},
   "source": [
    "        E\n",
    "     /      \\\n",
    "    D       +\n",
    "         /     \\\n",
    "        C       -\n",
    "               /\n",
    "             B\n",
    "            /\n",
    "          A"
   ]
  }
 ],
 "metadata": {
  "language_info": {
   "name": "python"
  }
 },
 "nbformat": 4,
 "nbformat_minor": 2
}
