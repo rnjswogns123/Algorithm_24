{
 "cells": [
  {
   "cell_type": "markdown",
   "metadata": {},
   "source": [
    "# 5장 22번 연습문제"
   ]
  },
  {
   "cell_type": "markdown",
   "metadata": {},
   "source": [
    "closet_pair_dist() 알고리즘을 O(log2n)으로 개선하라. 이를 위해, strip_closest()에서 정렬 문장을 제거해야 하고, closest_pair_dist()에서 병합 정렬의 병합 기법(알고리즘5.2)을 사용해야 할것이다."
   ]
  },
  {
   "cell_type": "code",
   "execution_count": 1,
   "metadata": {},
   "outputs": [
    {
     "name": "stdout",
     "output_type": "stream",
     "text": [
      "The smallest distance is: 1.4142135623730951\n"
     ]
    }
   ],
   "source": [
    "import math\n",
    "\n",
    "def closest_pair_dist(points):\n",
    "    def dist(p1, p2):\n",
    "        return math.sqrt((p1[0] - p2[0])**2 + (p1[1] - p2[1])**2)\n",
    "\n",
    "    def merge(left, right, min_dist):\n",
    "        merged = []\n",
    "        i = j = 0\n",
    "        while i < len(left) and j < len(right):\n",
    "            if left[i][1] <= right[j][1]:\n",
    "                merged.append(left[i])\n",
    "                i += 1\n",
    "            else:\n",
    "                merged.append(right[j])\n",
    "                j += 1\n",
    "        while i < len(left):\n",
    "            merged.append(left[i])\n",
    "            i += 1\n",
    "        while j < len(right):\n",
    "            merged.append(right[j])\n",
    "            j += 1\n",
    "        \n",
    "        for i in range(len(merged)):\n",
    "            for j in range(i+1, min(i+7, len(merged))):\n",
    "                min_dist = min(min_dist, dist(merged[i], merged[j]))\n",
    "        \n",
    "        return min_dist\n",
    "\n",
    "    def closest_pair_rec(points):\n",
    "        if len(points) <= 3:\n",
    "            return brute_force(points)\n",
    "        \n",
    "        mid = len(points) // 2\n",
    "        mid_point = points[mid]\n",
    "        \n",
    "        left_half = points[:mid]\n",
    "        right_half = points[mid:]\n",
    "        \n",
    "        dl = closest_pair_rec(left_half)\n",
    "        dr = closest_pair_rec(right_half)\n",
    "        \n",
    "        delta = min(dl, dr)\n",
    "        \n",
    "        return merge(left_half, right_half, delta)\n",
    "    \n",
    "    def brute_force(points):\n",
    "        min_d = float('inf')\n",
    "        for i in range(len(points)):\n",
    "            for j in range(i + 1, len(points)):\n",
    "                if dist(points[i], points[j]) < min_d:\n",
    "                    min_d = dist(points[i], points[j])\n",
    "        return min_d\n",
    "    \n",
    "    points.sort(key=lambda point: point[0])\n",
    "    return closest_pair_rec(points)\n",
    "\n",
    "# Example usage:\n",
    "points = [(2, 3), (12, 30), (40, 50), (5, 1), (12, 10), (3, 4)]\n",
    "print(\"The smallest distance is:\", closest_pair_dist(points))"
   ]
  }
 ],
 "metadata": {
  "kernelspec": {
   "display_name": "Python 3",
   "language": "python",
   "name": "python3"
  },
  "language_info": {
   "codemirror_mode": {
    "name": "ipython",
    "version": 3
   },
   "file_extension": ".py",
   "mimetype": "text/x-python",
   "name": "python",
   "nbconvert_exporter": "python",
   "pygments_lexer": "ipython3",
   "version": "3.12.2"
  }
 },
 "nbformat": 4,
 "nbformat_minor": 2
}
