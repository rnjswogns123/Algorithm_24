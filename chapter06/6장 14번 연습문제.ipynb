{
 "cells": [
  {
   "cell_type": "markdown",
   "metadata": {},
   "source": [
    "# 6장 14번 연습문제"
   ]
  },
  {
   "cell_type": "code",
   "execution_count": 3,
   "metadata": {},
   "outputs": [
    {
     "name": "stdout",
     "output_type": "stream",
     "text": [
      "패턴이 텍스트의 위치 23에서 시작됩니다.\n",
      "검사 위치: 4, 일치 길이: 0, 현재 텍스트 상태: I_LOVE_BANANA_YOU_LIKE_APPLE_AND_MANGO\n",
      "검사 위치: 9, 일치 길이: 0, 현재 텍스트 상태: I_LOVE_BANANA_YOU_LIKE_APPLE_AND_MANGO\n",
      "검사 위치: 14, 일치 길이: 0, 현재 텍스트 상태: I_LOVE_BANANA_YOU_LIKE_APPLE_AND_MANGO\n",
      "검사 위치: 19, 일치 길이: 0, 현재 텍스트 상태: I_LOVE_BANANA_YOU_LIKE_APPLE_AND_MANGO\n",
      "검사 위치: 24, 일치 길이: 0, 현재 텍스트 상태: I_LOVE_BANANA_YOU_LIKE_APPLE_AND_MANGO\n",
      "검사 위치: 26, 일치 길이: 0, 현재 텍스트 상태: I_LOVE_BANANA_YOU_LIKE_APPLE_AND_MANGO\n",
      "검사 위치: 27, 일치 길이: 5, 현재 텍스트 상태: I_LOVE_BANANA_YOU_LIKE_APPLE_AND_MANGO\n"
     ]
    }
   ],
   "source": [
    "def preprocess(pattern):\n",
    "    \"\"\" 호스풀 알고리즘을 위한 건너뛰기 테이블을 생성 \"\"\"\n",
    "    table = {}\n",
    "    pattern_length = len(pattern)\n",
    "    for i in range(pattern_length - 1):\n",
    "        table[pattern[i]] = pattern_length - 1 - i\n",
    "    return table\n",
    "\n",
    "def horspool(text, pattern):\n",
    "    table = preprocess(pattern)\n",
    "    pattern_length = len(pattern)\n",
    "    text_length = len(text)\n",
    "    i = pattern_length - 1\n",
    "    \n",
    "    steps = []\n",
    "    \n",
    "    while i < text_length:\n",
    "        k = 0\n",
    "        while k < pattern_length and pattern[pattern_length - 1 - k] == text[i - k]:\n",
    "            k += 1\n",
    "        steps.append((text, i, k))\n",
    "        if k == pattern_length:\n",
    "            return i - pattern_length + 1, steps\n",
    "        else:\n",
    "            i += table.get(text[i], pattern_length)\n",
    "    return -1, steps\n",
    "\n",
    "text = \"I_LOVE_BANANA_YOU_LIKE_APPLE_AND_MANGO\"\n",
    "pattern = \"APPLE\"\n",
    "\n",
    "result, steps = horspool(text, pattern)\n",
    "\n",
    "if result != -1:\n",
    "    print(f\"패턴이 텍스트의 위치 {result}에서 시작됩니다.\")\n",
    "else:\n",
    "    print(\"패턴이 텍스트에 존재하지 않습니다.\")\n",
    "\n",
    "for step in steps:\n",
    "    current_text, index, match_length = step\n",
    "    print(f\"검사 위치: {index}, 일치 길이: {match_length}, 현재 텍스트 상태: {current_text}\")\n"
   ]
  }
 ],
 "metadata": {
  "kernelspec": {
   "display_name": "Python 3",
   "language": "python",
   "name": "python3"
  },
  "language_info": {
   "codemirror_mode": {
    "name": "ipython",
    "version": 3
   },
   "file_extension": ".py",
   "mimetype": "text/x-python",
   "name": "python",
   "nbconvert_exporter": "python",
   "pygments_lexer": "ipython3",
   "version": "3.12.2"
  }
 },
 "nbformat": 4,
 "nbformat_minor": 2
}
