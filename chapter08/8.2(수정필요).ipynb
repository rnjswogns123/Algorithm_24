{
 "cells": [
  {
   "cell_type": "markdown",
   "metadata": {},
   "source": [
    "# 8.2"
   ]
  },
  {
   "cell_type": "markdown",
   "metadata": {},
   "source": [
    "문제 정의 : 분할 가능한 배낭 채우기"
   ]
  },
  {
   "cell_type": "markdown",
   "metadata": {},
   "source": [
    "코드 개요 :"
   ]
  },
  {
   "cell_type": "markdown",
   "metadata": {},
   "source": []
  },
  {
   "cell_type": "markdown",
   "metadata": {},
   "source": [
    "손으로 푼 예제 :"
   ]
  },
  {
   "cell_type": "markdown",
   "metadata": {},
   "source": []
  },
  {
   "cell_type": "markdown",
   "metadata": {},
   "source": [
    "알고리즘 코드"
   ]
  },
  {
   "cell_type": "code",
   "execution_count": 1,
   "metadata": {},
   "outputs": [],
   "source": [
    "def knapSack_fractions_greedy(odj, W):\n",
    "    obj.sort(key = lambda o: o[2]/o[1], reverse=True)\n",
    "\n",
    "    totalValue = 0\n",
    "    for o in obj :\n",
    "        if W <= 0 : break\n",
    "        if W - o[1] >= 0:\n",
    "            W<= o[1]\n",
    "            totalValue += o[2]\n",
    "        else:\n",
    "            fraction = W / o[1]\n",
    "            totalValue += o[2] * fraction\n",
    "            W = int(W - (o[1] * fraction))\n",
    "\n",
    "    return totalValue"
   ]
  },
  {
   "cell_type": "markdown",
   "metadata": {},
   "source": [
    "테스트 코드"
   ]
  },
  {
   "cell_type": "code",
   "execution_count": 4,
   "metadata": {},
   "outputs": [
    {
     "name": "stdout",
     "output_type": "stream",
     "text": [
      "W = 18  [('A', 10, 80), ('B', 12, 120), ('C', 8, 60)]\n",
      "부분적인배낭(18):  168.0\n",
      "\n",
      "W = 50  [('A', 10, 60), ('B', 40, 40), ('C', 20, 100), ('D', 30, 120)]\n",
      "부분적인배낭(50):  240.0\n"
     ]
    }
   ],
   "source": [
    "def knapSack_fractional_greedy(items, W):\n",
    "    \n",
    "    items = sorted(items, key=lambda x: x[2] / x[1], reverse=True)\n",
    "    total_value = 0\n",
    "    for item in items:\n",
    "        if W >= item[1]:\n",
    "            W -= item[1]\n",
    "            total_value += item[2]\n",
    "        else:\n",
    "            total_value += item[2] * (W / item[1])\n",
    "            break\n",
    "    return total_value\n",
    "\n",
    "obj1 = [(\"A\", 10, 80), (\"B\", 12, 120), (\"C\", 8, 60)]\n",
    "print(\"W = 18 \", obj1)\n",
    "print(\"부분적인배낭(18): \", knapSack_fractional_greedy(obj1, 18), end='\\n\\n')\n",
    "\n",
    "obj2 = [(\"A\", 10, 60), (\"B\", 40, 40), (\"C\", 20, 100), (\"D\", 30, 120)]\n",
    "print(\"W = 50 \", obj2)\n",
    "print(\"부분적인배낭(50): \", knapSack_fractional_greedy(obj2, 50))"
   ]
  },
  {
   "cell_type": "markdown",
   "metadata": {},
   "source": [
    "# 복잡도 분석"
   ]
  },
  {
   "cell_type": "markdown",
   "metadata": {},
   "source": [
    "시간 복잡도는 : O(nlog2n)"
   ]
  }
 ],
 "metadata": {
  "kernelspec": {
   "display_name": "Python 3",
   "language": "python",
   "name": "python3"
  },
  "language_info": {
   "codemirror_mode": {
    "name": "ipython",
    "version": 3
   },
   "file_extension": ".py",
   "mimetype": "text/x-python",
   "name": "python",
   "nbconvert_exporter": "python",
   "pygments_lexer": "ipython3",
   "version": "3.12.2"
  }
 },
 "nbformat": 4,
 "nbformat_minor": 2
}
