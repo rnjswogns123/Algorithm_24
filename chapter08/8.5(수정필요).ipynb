{
 "cells": [
  {
   "cell_type": "markdown",
   "metadata": {},
   "source": [
    "알고리즘 코드"
   ]
  },
  {
   "cell_type": "code",
   "execution_count": 3,
   "metadata": {},
   "outputs": [],
   "source": [
    "def MSTPrim(vertex, adj) :\n",
    "    vsize = len(vertex)\n",
    "    dist = [INF] * vsize\n",
    "    dist[0] = 0\n",
    "    selected = [False] * vsize\n",
    "\n",
    "    for i in range(vsize) :\n",
    "        u = getMinVertex(dist, selected)\n",
    "        selected[u] = True\n",
    "        print(vertexp[u], end=\":\")\n",
    "        print(dist)\n",
    "\n",
    "    for v in range(vsize) :\n",
    "        if ( adj[u][v] != None):\n",
    "            if selected[v]==False and adj[u][v]< dist[v] : \n",
    "                dist[v] = adj[u][v]"
   ]
  },
  {
   "cell_type": "code",
   "execution_count": null,
   "metadata": {},
   "outputs": [],
   "source": []
  }
 ],
 "metadata": {
  "kernelspec": {
   "display_name": "Python 3",
   "language": "python",
   "name": "python3"
  },
  "language_info": {
   "codemirror_mode": {
    "name": "ipython",
    "version": 3
   },
   "file_extension": ".py",
   "mimetype": "text/x-python",
   "name": "python",
   "nbconvert_exporter": "python",
   "pygments_lexer": "ipython3",
   "version": "3.12.2"
  }
 },
 "nbformat": 4,
 "nbformat_minor": 2
}
